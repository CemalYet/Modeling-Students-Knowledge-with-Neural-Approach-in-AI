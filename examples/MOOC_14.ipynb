{
 "cells": [
  {
   "cell_type": "code",
   "execution_count": 1,
   "metadata": {
    "collapsed": true
   },
   "outputs": [],
   "source": [
    "import numpy as np\n",
    "import matplotlib.pyplot as plt\n",
    "import seaborn as ac; ac.set_theme()\n",
    "import pandas as pd\n",
    "import matplotlib\n"
   ]
  },
  {
   "cell_type": "code",
   "execution_count": 2,
   "outputs": [],
   "source": [
    "fn = \"data/fourteenSkillsDen.csv\" # Dataset path\n",
    "verbose = 1 # Verbose = {0,1,2}\n",
    "best_model_weights = \"weights/bestmodel\" # File to save the model.\n",
    "log_dir = \"logs\" # Path to save the logs.\n",
    "optimizer = \"adam\" # Optimizer to use\n",
    "lstm_units = 150 # Number of LSTM units\n",
    "batch_size = 32 # Batch size\n",
    "epochs = 20 # Number of epochs to train\n",
    "dropout_rate = 0.3 # Dropout rate\n",
    "test_fraction = 0.2 # Portion of data to be used for testing\n",
    "validation_fraction = 0.1 # Portion of training data to be used for validation"
   ],
   "metadata": {
    "collapsed": false,
    "pycharm": {
     "name": "#%%\n"
    }
   }
  },
  {
   "cell_type": "code",
   "execution_count": 102,
   "outputs": [
    {
     "name": "stdout",
     "output_type": "stream",
     "text": [
      "============= Data Summary =============\n",
      "Total number of students: 1167\n",
      "Training set size: 840\n",
      "Validation set size: 93\n",
      "Testing set size: 233\n",
      "Number of skills: 14\n",
      "Number of features in the input: 28\n",
      "========================================\n"
     ]
    }
   ],
   "source": [
    "from deepkt import deepkt, data_util, metrics\n",
    "\n",
    "batch_size=1\n",
    "dataset, length, nb_features, nb_skills = data_util.load_dataset(fn=fn,\n",
    "                                                                 batch_size=batch_size,\n",
    "                                                                 shuffle=True)\n",
    "\n",
    "train_set, test_set, val_set = data_util.split_dataset(dataset=dataset,\n",
    "                                                       total_size=length,\n",
    "                                                       test_fraction=test_fraction,\n",
    "                                                       val_fraction=validation_fraction)\n",
    "\n",
    "\n",
    "set_sz = length * batch_size\n",
    "test_set_sz = (set_sz * test_fraction)\n",
    "val_set_sz = (set_sz - test_set_sz) * validation_fraction\n",
    "train_set_sz = set_sz - test_set_sz - val_set_sz\n",
    "print(\"============= Data Summary =============\")\n",
    "print(\"Total number of students: %d\" % set_sz)\n",
    "print(\"Training set size: %d\" % train_set_sz)\n",
    "print(\"Validation set size: %d\" % val_set_sz)\n",
    "print(\"Testing set size: %d\" % test_set_sz)\n",
    "print(\"Number of skills: %d\" % nb_skills)\n",
    "print(\"Number of features in the input: %d\" % nb_features)\n",
    "print(\"========================================\")"
   ],
   "metadata": {
    "collapsed": false,
    "pycharm": {
     "name": "#%%\n"
    }
   }
  },
  {
   "cell_type": "code",
   "execution_count": 5,
   "outputs": [
    {
     "name": "stdout",
     "output_type": "stream",
     "text": [
      "Model: \"DKTModel\"\n",
      "_________________________________________________________________\n",
      "Layer (type)                 Output Shape              Param #   \n",
      "=================================================================\n",
      "inputs (InputLayer)          [(None, None, 28)]        0         \n",
      "_________________________________________________________________\n",
      "masking (Masking)            (None, None, 28)          0         \n",
      "_________________________________________________________________\n",
      "lstm (LSTM)                  (None, None, 150)         107400    \n",
      "_________________________________________________________________\n",
      "outputs (TimeDistributed)    (None, None, 14)          2114      \n",
      "=================================================================\n",
      "Total params: 109,514\n",
      "Trainable params: 109,514\n",
      "Non-trainable params: 0\n",
      "_________________________________________________________________\n"
     ]
    }
   ],
   "source": [
    "\n",
    "train_length=train_set_sz // batch_size\n",
    "val_length=val_set_sz // batch_size\n",
    "\n",
    "student_model = deepkt.DKTModel(\n",
    "                        nb_features=nb_features,\n",
    "                        nb_skills=nb_skills,\n",
    "                        hidden_units=lstm_units,\n",
    "                        dropout_rate=dropout_rate)\n",
    "\n",
    "student_model.compile(\n",
    "        optimizer=optimizer,\n",
    "        metrics=[\n",
    "            metrics.BinaryAccuracy(),\n",
    "            metrics.AUC(),\n",
    "            metrics.Precision(),\n",
    "            metrics.Recall()\n",
    "        ])\n",
    "\n",
    "student_model.summary()"
   ],
   "metadata": {
    "collapsed": false,
    "pycharm": {
     "name": "#%%\n"
    }
   }
  },
  {
   "cell_type": "code",
   "execution_count": 6,
   "outputs": [
    {
     "name": "stdout",
     "output_type": "stream",
     "text": [
      "Epoch 1/20\n"
     ]
    },
    {
     "name": "stderr",
     "output_type": "stream",
     "text": [
      "2022-06-04 12:33:06.883443: W tensorflow/core/grappler/optimizers/implementation_selector.cc:310] Skipping optimization due to error while loading function libraries: Invalid argument: Functions '__inference___backward_cudnn_lstm_with_fallback_851_2308' and '__inference___backward_standard_lstm_3606_4203_specialized_for_training_Adam_gradients_gradients_lstm_StatefulPartitionedCall_grad_StatefulPartitionedCall_at___inference_keras_scratch_graph_4855' both implement 'lstm_7ddfd040-d4d6-4197-8b71-a4dfd21353bb' but their signatures do not match.\n"
     ]
    },
    {
     "name": "stdout",
     "output_type": "stream",
     "text": [
      "     24/Unknown - 2s 85ms/step - loss: 0.6937 - binary_accuracy: 0.4872 - auc: 0.5258 - precision: 0.4242 - recall: 0.2545"
     ]
    },
    {
     "name": "stderr",
     "output_type": "stream",
     "text": [
      "2022-06-04 12:33:07.341170: I tensorflow/core/profiler/lib/profiler_session.cc:184] Profiler session started.\n"
     ]
    },
    {
     "name": "stdout",
     "output_type": "stream",
     "text": [
      "839/839 [==============================] - 9s 11ms/step - loss: 0.6364 - binary_accuracy: 0.6839 - auc: 0.7302 - precision: 0.7235 - recall: 0.7624 - val_loss: 0.0000e+00 - val_binary_accuracy: 0.0000e+00 - val_auc: 0.0000e+00 - val_precision: 0.0000e+00 - val_recall: 0.0000e+00\n",
      "Epoch 2/20\n",
      "839/839 [==============================] - 5s 6ms/step - loss: 0.5988 - binary_accuracy: 0.7243 - auc: 0.7770 - precision: 0.7547 - recall: 0.7979 - val_loss: 0.6275 - val_binary_accuracy: 0.7335 - val_auc: 0.7379 - val_precision: 0.7386 - val_recall: 0.9000\n",
      "Epoch 3/20\n",
      "839/839 [==============================] - 4s 5ms/step - loss: 0.5901 - binary_accuracy: 0.7141 - auc: 0.7844 - precision: 0.7601 - recall: 0.7620 - val_loss: 0.6244 - val_binary_accuracy: 0.6533 - val_auc: 0.7554 - val_precision: 0.7573 - val_recall: 0.6704\n",
      "Epoch 4/20\n",
      "839/839 [==============================] - 5s 5ms/step - loss: 0.5896 - binary_accuracy: 0.7076 - auc: 0.7767 - precision: 0.7485 - recall: 0.7691 - val_loss: 0.6277 - val_binary_accuracy: 0.7382 - val_auc: 0.7466 - val_precision: 0.7416 - val_recall: 0.9037\n",
      "Epoch 5/20\n",
      "839/839 [==============================] - 4s 5ms/step - loss: 0.5822 - binary_accuracy: 0.7258 - auc: 0.7852 - precision: 0.7502 - recall: 0.8113 - val_loss: 0.6199 - val_binary_accuracy: 0.7476 - val_auc: 0.7638 - val_precision: 0.7523 - val_recall: 0.9000\n",
      "Epoch 6/20\n",
      "839/839 [==============================] - 5s 6ms/step - loss: 0.5785 - binary_accuracy: 0.7293 - auc: 0.7879 - precision: 0.7549 - recall: 0.8100 - val_loss: 0.6222 - val_binary_accuracy: 0.6368 - val_auc: 0.7630 - val_precision: 0.7589 - val_recall: 0.6296\n",
      "Epoch 7/20\n",
      "839/839 [==============================] - 5s 6ms/step - loss: 0.5735 - binary_accuracy: 0.7193 - auc: 0.7886 - precision: 0.7563 - recall: 0.7825 - val_loss: 0.6236 - val_binary_accuracy: 0.7241 - val_auc: 0.7572 - val_precision: 0.7444 - val_recall: 0.8630\n",
      "Epoch 8/20\n",
      "839/839 [==============================] - 4s 5ms/step - loss: 0.5706 - binary_accuracy: 0.7328 - auc: 0.7935 - precision: 0.7594 - recall: 0.8092 - val_loss: 0.6311 - val_binary_accuracy: 0.7453 - val_auc: 0.7607 - val_precision: 0.7500 - val_recall: 0.9000\n",
      "Epoch 9/20\n",
      "839/839 [==============================] - 4s 5ms/step - loss: 0.5706 - binary_accuracy: 0.7241 - auc: 0.7941 - precision: 0.7571 - recall: 0.7925 - val_loss: 0.6244 - val_binary_accuracy: 0.7476 - val_auc: 0.7686 - val_precision: 0.7523 - val_recall: 0.9000\n",
      "Epoch 10/20\n",
      "839/839 [==============================] - 5s 6ms/step - loss: 0.5708 - binary_accuracy: 0.7248 - auc: 0.7936 - precision: 0.7549 - recall: 0.7987 - val_loss: 0.6209 - val_binary_accuracy: 0.7335 - val_auc: 0.7638 - val_precision: 0.7508 - val_recall: 0.8704\n",
      "Epoch 11/20\n",
      "839/839 [==============================] - 5s 6ms/step - loss: 0.5611 - binary_accuracy: 0.7348 - auc: 0.7991 - precision: 0.7573 - recall: 0.8184 - val_loss: 0.6254 - val_binary_accuracy: 0.7547 - val_auc: 0.7691 - val_precision: 0.7578 - val_recall: 0.9037\n",
      "Epoch 12/20\n",
      "839/839 [==============================] - 5s 6ms/step - loss: 0.5681 - binary_accuracy: 0.7283 - auc: 0.7924 - precision: 0.7597 - recall: 0.7975 - val_loss: 0.6232 - val_binary_accuracy: 0.7335 - val_auc: 0.7670 - val_precision: 0.7524 - val_recall: 0.8667\n",
      "Epoch 13/20\n",
      "839/839 [==============================] - 5s 5ms/step - loss: 0.5604 - binary_accuracy: 0.7383 - auc: 0.8062 - precision: 0.7660 - recall: 0.8092 - val_loss: 0.6233 - val_binary_accuracy: 0.7335 - val_auc: 0.7669 - val_precision: 0.7492 - val_recall: 0.8741\n",
      "Epoch 14/20\n",
      "839/839 [==============================] - 5s 6ms/step - loss: 0.5541 - binary_accuracy: 0.7355 - auc: 0.8053 - precision: 0.7625 - recall: 0.8096 - val_loss: 0.6318 - val_binary_accuracy: 0.7382 - val_auc: 0.7673 - val_precision: 0.7556 - val_recall: 0.8704\n",
      "Epoch 15/20\n",
      "839/839 [==============================] - 4s 5ms/step - loss: 0.5596 - binary_accuracy: 0.7280 - auc: 0.7968 - precision: 0.7603 - recall: 0.7958 - val_loss: 0.6338 - val_binary_accuracy: 0.7500 - val_auc: 0.7665 - val_precision: 0.7531 - val_recall: 0.9037\n",
      "Epoch 16/20\n",
      "839/839 [==============================] - 4s 5ms/step - loss: 0.5561 - binary_accuracy: 0.7328 - auc: 0.8020 - precision: 0.7633 - recall: 0.8013 - val_loss: 0.6309 - val_binary_accuracy: 0.7311 - val_auc: 0.7703 - val_precision: 0.7549 - val_recall: 0.8556\n",
      "Epoch 17/20\n",
      "839/839 [==============================] - 4s 5ms/step - loss: 0.5646 - binary_accuracy: 0.7218 - auc: 0.7973 - precision: 0.7678 - recall: 0.7662 - val_loss: 0.6325 - val_binary_accuracy: 0.7524 - val_auc: 0.7691 - val_precision: 0.7538 - val_recall: 0.9074\n",
      "Epoch 18/20\n",
      "839/839 [==============================] - 5s 6ms/step - loss: 0.5517 - binary_accuracy: 0.7435 - auc: 0.8061 - precision: 0.7701 - recall: 0.8138 - val_loss: 0.6298 - val_binary_accuracy: 0.7594 - val_auc: 0.7773 - val_precision: 0.7658 - val_recall: 0.8963\n",
      "Epoch 19/20\n",
      "839/839 [==============================] - 6s 7ms/step - loss: 0.5491 - binary_accuracy: 0.7335 - auc: 0.8068 - precision: 0.7672 - recall: 0.7954 - val_loss: 0.6365 - val_binary_accuracy: 0.7500 - val_auc: 0.7676 - val_precision: 0.7547 - val_recall: 0.9000\n",
      "Epoch 20/20\n",
      "839/839 [==============================] - 5s 6ms/step - loss: 0.5544 - binary_accuracy: 0.7163 - auc: 0.7992 - precision: 0.7658 - recall: 0.7566 - val_loss: 0.6316 - val_binary_accuracy: 0.7476 - val_auc: 0.7790 - val_precision: 0.7690 - val_recall: 0.8630\n"
     ]
    }
   ],
   "source": [
    "import tensorflow as tf\n",
    "history = student_model.fit(dataset=train_set,\n",
    "                            epochs=epochs,\n",
    "                            verbose=verbose,\n",
    "                            validation_data=val_set,\n",
    "                            callbacks=[\n",
    "                                tf.keras.callbacks.CSVLogger(f\"{log_dir}/train.log\"),\n",
    "                                tf.keras.callbacks.ModelCheckpoint(best_model_weights,\n",
    "                                                                   save_best_only=True,\n",
    "                                                                   save_weights_only=True),\n",
    "                                tf.keras.callbacks.TensorBoard(log_dir=log_dir)\n",
    "        ])"
   ],
   "metadata": {
    "collapsed": false,
    "pycharm": {
     "name": "#%%\n"
    }
   }
  },
  {
   "cell_type": "code",
   "execution_count": 7,
   "outputs": [
    {
     "data": {
      "text/plain": "<tensorflow.python.training.tracking.util.CheckpointLoadStatus at 0x14da6acd0>"
     },
     "execution_count": 7,
     "metadata": {},
     "output_type": "execute_result"
    }
   ],
   "source": [
    "student_model.load_weights(best_model_weights)"
   ],
   "metadata": {
    "collapsed": false,
    "pycharm": {
     "name": "#%%\n"
    }
   }
  },
  {
   "cell_type": "code",
   "execution_count": 8,
   "outputs": [
    {
     "name": "stdout",
     "output_type": "stream",
     "text": [
      "    234/Unknown - 1s 5ms/step - loss: 0.6011 - binary_accuracy: 0.7348 - auc: 0.7854 - precision: 0.7209 - recall: 0.9055"
     ]
    }
   ],
   "source": [
    "result = student_model.evaluate(test_set, verbose=verbose)\n"
   ],
   "metadata": {
    "collapsed": false,
    "pycharm": {
     "name": "#%%\n"
    }
   }
  },
  {
   "cell_type": "markdown",
   "source": [
    "### Take One Sample"
   ],
   "metadata": {
    "collapsed": false
   }
  },
  {
   "cell_type": "code",
   "execution_count": 103,
   "outputs": [],
   "source": [
    "def get_element_by_index(data_set,candidate_index):\n",
    "    \"\"\"\n",
    "    This function gets candidate\n",
    "    by index\n",
    "    \"\"\"\n",
    "    for raw_index,candidate in enumerate(data_set):\n",
    "        if raw_index == candidate_index:\n",
    "            candidate_desired = candidate\n",
    "            return candidate_desired"
   ],
   "metadata": {
    "collapsed": false,
    "pycharm": {
     "name": "#%%\n"
    }
   }
  },
  {
   "cell_type": "code",
   "execution_count": 104,
   "outputs": [
    {
     "name": "stdout",
     "output_type": "stream",
     "text": [
      "tf.Tensor(\n",
      "[[0. 1. 0. 0. 0. 0. 0. 0. 0. 0. 0. 0. 0. 0. 0. 0. 0. 0. 0. 0. 0. 0. 0. 0.\n",
      "  0. 0. 0. 0.]\n",
      " [0. 0. 0. 1. 0. 0. 0. 0. 0. 0. 0. 0. 0. 0. 0. 0. 0. 0. 0. 0. 0. 0. 0. 0.\n",
      "  0. 0. 0. 0.]\n",
      " [0. 0. 0. 0. 0. 1. 0. 0. 0. 0. 0. 0. 0. 0. 0. 0. 0. 0. 0. 0. 0. 0. 0. 0.\n",
      "  0. 0. 0. 0.]\n",
      " [0. 0. 0. 0. 0. 0. 0. 1. 0. 0. 0. 0. 0. 0. 0. 0. 0. 0. 0. 0. 0. 0. 0. 0.\n",
      "  0. 0. 0. 0.]\n",
      " [0. 0. 0. 0. 0. 0. 0. 0. 1. 0. 0. 0. 0. 0. 0. 0. 0. 0. 0. 0. 0. 0. 0. 0.\n",
      "  0. 0. 0. 0.]\n",
      " [0. 0. 0. 0. 0. 0. 0. 0. 0. 0. 0. 1. 0. 0. 0. 0. 0. 0. 0. 0. 0. 0. 0. 0.\n",
      "  0. 0. 0. 0.]\n",
      " [0. 0. 0. 0. 0. 0. 0. 0. 0. 0. 0. 0. 1. 0. 0. 0. 0. 0. 0. 0. 0. 0. 0. 0.\n",
      "  0. 0. 0. 0.]\n",
      " [0. 0. 0. 0. 0. 0. 0. 0. 0. 0. 0. 0. 0. 0. 0. 1. 0. 0. 0. 0. 0. 0. 0. 0.\n",
      "  0. 0. 0. 0.]], shape=(8, 28), dtype=float32)\n"
     ]
    }
   ],
   "source": [
    "student_desired=get_element_by_index(test_set,100)\n",
    "print(student_desired[0][0])"
   ],
   "metadata": {
    "collapsed": false,
    "pycharm": {
     "name": "#%%\n"
    }
   }
  },
  {
   "cell_type": "code",
   "execution_count": 105,
   "outputs": [],
   "source": [
    "sample1=np.zeros((1,14,28))"
   ],
   "metadata": {
    "collapsed": false,
    "pycharm": {
     "name": "#%%\n"
    }
   }
  },
  {
   "cell_type": "code",
   "execution_count": 106,
   "outputs": [],
   "source": [
    "for i in range(14):\n",
    "    sample1[0][i][2*i+1]=1"
   ],
   "metadata": {
    "collapsed": false,
    "pycharm": {
     "name": "#%%\n"
    }
   }
  },
  {
   "cell_type": "code",
   "execution_count": 107,
   "outputs": [
    {
     "name": "stdout",
     "output_type": "stream",
     "text": [
      "1\n",
      "2\n",
      "3\n"
     ]
    },
    {
     "ename": "IndexError",
     "evalue": "index 14 is out of bounds for axis 0 with size 14",
     "output_type": "error",
     "traceback": [
      "\u001B[0;31m---------------------------------------------------------------------------\u001B[0m",
      "\u001B[0;31mIndexError\u001B[0m                                Traceback (most recent call last)",
      "\u001B[0;32m/var/folders/9q/qy2dbtzx1113fyq6t6nbww300000gn/T/ipykernel_10194/3092896639.py\u001B[0m in \u001B[0;36m<module>\u001B[0;34m\u001B[0m\n\u001B[1;32m     18\u001B[0m         \u001B[0mreal_index\u001B[0m\u001B[0;34m=\u001B[0m\u001B[0mint\u001B[0m\u001B[0;34m(\u001B[0m\u001B[0mtmp_index\u001B[0m\u001B[0;34m/\u001B[0m\u001B[0;36m2\u001B[0m\u001B[0;34m)\u001B[0m\u001B[0;34m\u001B[0m\u001B[0;34m\u001B[0m\u001B[0m\n\u001B[1;32m     19\u001B[0m         \u001B[0mreal_val\u001B[0m\u001B[0;34m=\u001B[0m\u001B[0mtmp_index\u001B[0m\u001B[0;34m%\u001B[0m\u001B[0;36m2\u001B[0m\u001B[0;34m\u001B[0m\u001B[0;34m\u001B[0m\u001B[0m\n\u001B[0;32m---> 20\u001B[0;31m         \u001B[0mtmp_y_gr\u001B[0m\u001B[0;34m[\u001B[0m\u001B[0mj\u001B[0m\u001B[0;34m]\u001B[0m\u001B[0;34m=\u001B[0m\u001B[0mreal_val\u001B[0m\u001B[0;34m\u001B[0m\u001B[0;34m\u001B[0m\u001B[0m\n\u001B[0m\u001B[1;32m     21\u001B[0m     \u001B[0;31m#end\u001B[0m\u001B[0;34m\u001B[0m\u001B[0;34m\u001B[0m\u001B[0;34m\u001B[0m\u001B[0m\n\u001B[1;32m     22\u001B[0m     \u001B[0;31m#make prediction\u001B[0m\u001B[0;34m\u001B[0m\u001B[0;34m\u001B[0m\u001B[0;34m\u001B[0m\u001B[0m\n",
      "\u001B[0;31mIndexError\u001B[0m: index 14 is out of bounds for axis 0 with size 14"
     ]
    }
   ],
   "source": [
    "y_gr_lst=[]\n",
    "err_calculation_matrix=np.zeros((14,1))\n",
    "err_counter_matrix=np.zeros((14,1))\n",
    "counterr=0\n",
    "for i in range(int(test_set_sz)):\n",
    "\n",
    "    if i== 139:\n",
    "        continue\n",
    "    student_desired=get_element_by_index(test_set,i)\n",
    "    #student array\n",
    "    tmp_s=student_desired[0][0]\n",
    "    l,_=tmp_s.shape\n",
    "    tmp_y_gr=np.zeros((14,1))\n",
    "    #calculate ground truth\n",
    "    #begin\n",
    "    for j in range(l):\n",
    "        tmp_index=np.where(tmp_s[j] == 1)[0][0]\n",
    "        real_index=int(tmp_index/2)\n",
    "        real_val=tmp_index%2\n",
    "        tmp_y_gr[j]=real_val\n",
    "    #end\n",
    "    #make prediction\n",
    "    #begin\n",
    "    s1=student_desired[0]\n",
    "    s1=tf.expand_dims(s1, axis=0)\n",
    "    pr=student_model.predict(tf.squeeze(s1,axis=0))[0]\n",
    "    #end\n",
    "\n",
    "    #calculate error\n",
    "    #begin\n",
    "    indices,_=pr.shape\n",
    "    # print(s1.shape,' ',i)\n",
    "    a,b,c,d=s1.shape\n",
    "\n",
    "    if c==13:\n",
    "        counterr=counterr+1\n",
    "        print(counterr)\n",
    "\n",
    "\n",
    "    for k in range(indices):\n",
    "        if k>13:\n",
    "                continue\n",
    "        y_hat=(pr[k]).reshape((14, 1))\n",
    "        y_hat=(y_hat>0.5).astype(float)\n",
    "        tmp_err=sum(abs(y_hat-tmp_y_gr)/14)\n",
    "        err_calculation_matrix[k]=err_calculation_matrix[k]+tmp_err\n",
    "        err_counter_matrix[k]=err_counter_matrix[k]+1\n",
    "    #end\n",
    "\n"
   ],
   "metadata": {
    "collapsed": false,
    "pycharm": {
     "name": "#%%\n"
    }
   }
  },
  {
   "cell_type": "code",
   "execution_count": 14,
   "outputs": [
    {
     "ename": "NameError",
     "evalue": "name 'q_set' is not defined",
     "output_type": "error",
     "traceback": [
      "\u001B[0;31m---------------------------------------------------------------------------\u001B[0m",
      "\u001B[0;31mNameError\u001B[0m                                 Traceback (most recent call last)",
      "\u001B[0;32m/var/folders/9q/qy2dbtzx1113fyq6t6nbww300000gn/T/ipykernel_21804/143255.py\u001B[0m in \u001B[0;36m<module>\u001B[0;34m\u001B[0m\n\u001B[0;32m----> 1\u001B[0;31m \u001B[0mget_element_by_index\u001B[0m\u001B[0;34m(\u001B[0m\u001B[0mq_set\u001B[0m\u001B[0;34m,\u001B[0m\u001B[0;36m0\u001B[0m\u001B[0;34m)\u001B[0m\u001B[0;34m\u001B[0m\u001B[0;34m\u001B[0m\u001B[0m\n\u001B[0m",
      "\u001B[0;31mNameError\u001B[0m: name 'q_set' is not defined"
     ]
    }
   ],
   "source": [],
   "metadata": {
    "collapsed": false,
    "pycharm": {
     "name": "#%%\n"
    }
   }
  },
  {
   "cell_type": "code",
   "execution_count": 91,
   "outputs": [],
   "source": [
    "error_14=[]\n",
    "\n",
    "error_14=err_calculation_matrix / err_counter_matrix\n",
    "cemal=error_14.reshape((1,14)).tolist()"
   ],
   "metadata": {
    "collapsed": false,
    "pycharm": {
     "name": "#%%\n"
    }
   }
  },
  {
   "cell_type": "code",
   "execution_count": 93,
   "outputs": [
    {
     "data": {
      "text/plain": "[0.20197044334975395,\n 0.19886363636363652,\n 0.266705069124424,\n 0.2786421499292786,\n 0.2840531561461794,\n 0.2925636007827789,\n 0.33076923076923076,\n 0.4209183673469389,\n 0.4201680672268909,\n 0.46583850931677007,\n 0.4957983193277309,\n 0.4540816326530612,\n 0.46428571428571425,\n 0.4285714285714285]"
     },
     "execution_count": 93,
     "metadata": {},
     "output_type": "execute_result"
    }
   ],
   "source": [
    "cemal[0]"
   ],
   "metadata": {
    "collapsed": false,
    "pycharm": {
     "name": "#%%\n"
    }
   }
  },
  {
   "cell_type": "code",
   "execution_count": 95,
   "outputs": [],
   "source": [
    "skills=[1,2,3,4,5,6,7,8,9,10,11,12,13,14]"
   ],
   "metadata": {
    "collapsed": false,
    "pycharm": {
     "name": "#%%\n"
    }
   }
  },
  {
   "cell_type": "code",
   "execution_count": 100,
   "outputs": [
    {
     "data": {
      "text/plain": "<Figure size 432x288 with 1 Axes>",
      "image/png": "[encoded data removed]"
     },
     "metadata": {},
     "output_type": "display_data"
    }
   ],
   "source": [
    "plt.bar(skills, cemal[0])\n",
    "plt.ylabel('error')\n",
    "plt.xlabel('Test Name')\n",
    "plt.axhline(y=0, color='k')\n",
    "plt.axhline(y=0.6, color='w')\n",
    "plt.show()"
   ],
   "metadata": {
    "collapsed": false,
    "pycharm": {
     "name": "#%%\n"
    }
   }
  },
  {
   "cell_type": "code",
   "execution_count": 12,
   "outputs": [],
   "source": [
    "from tensorflow_core import float32\n",
    "\n",
    "\n",
    "predictedTensor=tf.convert_to_tensor(sample1,dtype=float32)"
   ],
   "metadata": {
    "collapsed": false,
    "pycharm": {
     "name": "#%%\n"
    }
   }
  },
  {
   "cell_type": "code",
   "execution_count": 13,
   "outputs": [
    {
     "name": "stderr",
     "output_type": "stream",
     "text": [
      "2022-05-28 20:17:28.747097: W tensorflow/core/framework/op_kernel.cc:1622] OP_REQUIRES failed at strided_slice_op.cc:108 : Invalid argument: slice index 34 of dimension 0 out of bounds.\n"
     ]
    },
    {
     "ename": "InvalidArgumentError",
     "evalue": "slice index 34 of dimension 0 out of bounds. [Op:StridedSlice] name: strided_slice/",
     "output_type": "error",
     "traceback": [
      "\u001B[0;31m---------------------------------------------------------------------------\u001B[0m",
      "\u001B[0;31mInvalidArgumentError\u001B[0m                      Traceback (most recent call last)",
      "\u001B[0;32m/var/folders/9q/qy2dbtzx1113fyq6t6nbww300000gn/T/ipykernel_61902/628961969.py\u001B[0m in \u001B[0;36m<module>\u001B[0;34m\u001B[0m\n\u001B[0;32m----> 1\u001B[0;31m \u001B[0mpredictedTensor\u001B[0m\u001B[0;34m[\u001B[0m\u001B[0;36m0\u001B[0m\u001B[0;34m]\u001B[0m\u001B[0;34m[\u001B[0m\u001B[0;34m(\u001B[0m\u001B[0;36m34\u001B[0m\u001B[0;34m)\u001B[0m\u001B[0;34m]\u001B[0m\u001B[0;34m[\u001B[0m\u001B[0;36m10\u001B[0m\u001B[0;34m]\u001B[0m\u001B[0;34m\u001B[0m\u001B[0;34m\u001B[0m\u001B[0m\n\u001B[0m",
      "\u001B[0;32m/usr/local/lib/python3.7/site-packages/tensorflow_core/python/ops/array_ops.py\u001B[0m in \u001B[0;36m_slice_helper\u001B[0;34m(tensor, slice_spec, var)\u001B[0m\n\u001B[1;32m    811\u001B[0m         \u001B[0mellipsis_mask\u001B[0m\u001B[0;34m=\u001B[0m\u001B[0mellipsis_mask\u001B[0m\u001B[0;34m,\u001B[0m\u001B[0;34m\u001B[0m\u001B[0;34m\u001B[0m\u001B[0m\n\u001B[1;32m    812\u001B[0m         \u001B[0mvar\u001B[0m\u001B[0;34m=\u001B[0m\u001B[0mvar\u001B[0m\u001B[0;34m,\u001B[0m\u001B[0;34m\u001B[0m\u001B[0;34m\u001B[0m\u001B[0m\n\u001B[0;32m--> 813\u001B[0;31m         name=name)\n\u001B[0m\u001B[1;32m    814\u001B[0m \u001B[0;34m\u001B[0m\u001B[0m\n\u001B[1;32m    815\u001B[0m \u001B[0;34m\u001B[0m\u001B[0m\n",
      "\u001B[0;32m/usr/local/lib/python3.7/site-packages/tensorflow_core/python/ops/array_ops.py\u001B[0m in \u001B[0;36mstrided_slice\u001B[0;34m(input_, begin, end, strides, begin_mask, end_mask, ellipsis_mask, new_axis_mask, shrink_axis_mask, var, name)\u001B[0m\n\u001B[1;32m    977\u001B[0m       \u001B[0mellipsis_mask\u001B[0m\u001B[0;34m=\u001B[0m\u001B[0mellipsis_mask\u001B[0m\u001B[0;34m,\u001B[0m\u001B[0;34m\u001B[0m\u001B[0;34m\u001B[0m\u001B[0m\n\u001B[1;32m    978\u001B[0m       \u001B[0mnew_axis_mask\u001B[0m\u001B[0;34m=\u001B[0m\u001B[0mnew_axis_mask\u001B[0m\u001B[0;34m,\u001B[0m\u001B[0;34m\u001B[0m\u001B[0;34m\u001B[0m\u001B[0m\n\u001B[0;32m--> 979\u001B[0;31m       shrink_axis_mask=shrink_axis_mask)\n\u001B[0m\u001B[1;32m    980\u001B[0m \u001B[0;34m\u001B[0m\u001B[0m\n\u001B[1;32m    981\u001B[0m   \u001B[0mparent_name\u001B[0m \u001B[0;34m=\u001B[0m \u001B[0mname\u001B[0m\u001B[0;34m\u001B[0m\u001B[0;34m\u001B[0m\u001B[0m\n",
      "\u001B[0;32m/usr/local/lib/python3.7/site-packages/tensorflow_core/python/ops/gen_array_ops.py\u001B[0m in \u001B[0;36mstrided_slice\u001B[0;34m(input, begin, end, strides, begin_mask, end_mask, ellipsis_mask, new_axis_mask, shrink_axis_mask, name)\u001B[0m\n\u001B[1;32m  10370\u001B[0m       \u001B[0;32melse\u001B[0m\u001B[0;34m:\u001B[0m\u001B[0;34m\u001B[0m\u001B[0;34m\u001B[0m\u001B[0m\n\u001B[1;32m  10371\u001B[0m         \u001B[0mmessage\u001B[0m \u001B[0;34m=\u001B[0m \u001B[0me\u001B[0m\u001B[0;34m.\u001B[0m\u001B[0mmessage\u001B[0m\u001B[0;34m\u001B[0m\u001B[0;34m\u001B[0m\u001B[0m\n\u001B[0;32m> 10372\u001B[0;31m       \u001B[0m_six\u001B[0m\u001B[0;34m.\u001B[0m\u001B[0mraise_from\u001B[0m\u001B[0;34m(\u001B[0m\u001B[0m_core\u001B[0m\u001B[0;34m.\u001B[0m\u001B[0m_status_to_exception\u001B[0m\u001B[0;34m(\u001B[0m\u001B[0me\u001B[0m\u001B[0;34m.\u001B[0m\u001B[0mcode\u001B[0m\u001B[0;34m,\u001B[0m \u001B[0mmessage\u001B[0m\u001B[0;34m)\u001B[0m\u001B[0;34m,\u001B[0m \u001B[0;32mNone\u001B[0m\u001B[0;34m)\u001B[0m\u001B[0;34m\u001B[0m\u001B[0;34m\u001B[0m\u001B[0m\n\u001B[0m\u001B[1;32m  10373\u001B[0m   \u001B[0;31m# Add nodes to the TensorFlow graph.\u001B[0m\u001B[0;34m\u001B[0m\u001B[0;34m\u001B[0m\u001B[0;34m\u001B[0m\u001B[0m\n\u001B[1;32m  10374\u001B[0m   \u001B[0;32mif\u001B[0m \u001B[0mbegin_mask\u001B[0m \u001B[0;32mis\u001B[0m \u001B[0;32mNone\u001B[0m\u001B[0;34m:\u001B[0m\u001B[0;34m\u001B[0m\u001B[0;34m\u001B[0m\u001B[0m\n",
      "\u001B[0;32m/usr/local/lib/python3.7/site-packages/six.py\u001B[0m in \u001B[0;36mraise_from\u001B[0;34m(value, from_value)\u001B[0m\n",
      "\u001B[0;31mInvalidArgumentError\u001B[0m: slice index 34 of dimension 0 out of bounds. [Op:StridedSlice] name: strided_slice/"
     ]
    }
   ],
   "source": [
    "predictedTensor[0][(34)][10]"
   ],
   "metadata": {
    "collapsed": false,
    "pycharm": {
     "name": "#%%\n"
    }
   }
  },
  {
   "cell_type": "code",
   "execution_count": 14,
   "outputs": [
    {
     "ename": "TypeError",
     "evalue": "'NoneType' object is not subscriptable",
     "output_type": "error",
     "traceback": [
      "\u001B[0;31m---------------------------------------------------------------------------\u001B[0m",
      "\u001B[0;31mTypeError\u001B[0m                                 Traceback (most recent call last)",
      "\u001B[0;32m/var/folders/9q/qy2dbtzx1113fyq6t6nbww300000gn/T/ipykernel_61902/485481425.py\u001B[0m in \u001B[0;36m<module>\u001B[0;34m\u001B[0m\n\u001B[0;32m----> 1\u001B[0;31m \u001B[0mstudent_desired\u001B[0m\u001B[0;34m[\u001B[0m\u001B[0;36m0\u001B[0m\u001B[0;34m]\u001B[0m\u001B[0;34m\u001B[0m\u001B[0;34m\u001B[0m\u001B[0m\n\u001B[0m",
      "\u001B[0;31mTypeError\u001B[0m: 'NoneType' object is not subscriptable"
     ]
    }
   ],
   "source": [
    "student_desired[0]"
   ],
   "metadata": {
    "collapsed": false,
    "pycharm": {
     "name": "#%%\n"
    }
   }
  },
  {
   "cell_type": "code",
   "execution_count": 15,
   "outputs": [],
   "source": [
    "#### Part 9: Predict only one student from Desired Data Set"
   ],
   "metadata": {
    "collapsed": false,
    "pycharm": {
     "name": "#%%\n"
    }
   }
  },
  {
   "cell_type": "code",
   "execution_count": 16,
   "outputs": [],
   "source": [
    "student_prediction=tf.expand_dims(predictedTensor, axis=0)"
   ],
   "metadata": {
    "collapsed": false,
    "pycharm": {
     "name": "#%%\n"
    }
   }
  },
  {
   "cell_type": "code",
   "execution_count": 17,
   "outputs": [
    {
     "name": "stdout",
     "output_type": "stream",
     "text": [
      "(14, 14)\n",
      "(1, 14, 28)\n"
     ]
    },
    {
     "data": {
      "text/plain": "array([0.9598654 , 0.92397356, 0.939162  , 0.9693497 , 0.7270918 ,\n       0.8869848 , 0.38009876, 0.9597237 , 0.86430526, 0.9546869 ,\n       0.89323103, 0.96057236, 0.91414547, 0.69032866], dtype=float32)"
     },
     "execution_count": 17,
     "metadata": {},
     "output_type": "execute_result"
    }
   ],
   "source": [
    "prediction_of_one_student=student_model.predict(tf.squeeze(student_prediction,axis=0))[0]\n",
    "print(prediction_of_one_student.shape) #This is how the prediction output looks like\n",
    "print(tf.squeeze(student_prediction,axis=0).shape)#this is how the input looks like see paper intuition doubling the skill_size\n",
    "prediction_of_one_student[10] #prediction of last time step"
   ],
   "metadata": {
    "collapsed": false,
    "pycharm": {
     "name": "#%%\n"
    }
   }
  },
  {
   "cell_type": "code",
   "execution_count": 18,
   "outputs": [],
   "source": [
    "count=14\n",
    "averages=[]\n",
    "\n",
    "for i in range (count):\n",
    "    suma = 0\n",
    "    for j in range(count):\n",
    "        suma += prediction_of_one_student[i][j]\n",
    "    averages.append(suma/count)"
   ],
   "metadata": {
    "collapsed": false,
    "pycharm": {
     "name": "#%%\n"
    }
   }
  },
  {
   "cell_type": "code",
   "execution_count": 19,
   "outputs": [
    {
     "name": "stdout",
     "output_type": "stream",
     "text": [
      "14\n",
      "14\n"
     ]
    }
   ],
   "source": [
    "relationships = []\n",
    "for i in range (count):\n",
    "    relationship = []\n",
    "    for j in range(count):\n",
    "        relationship.append(prediction_of_one_student[i][j]/averages[i])\n",
    "    relationships.append(relationship)\n",
    "\n",
    "print(len(relationships))\n",
    "print(len(relationships[0]))"
   ],
   "metadata": {
    "collapsed": false,
    "pycharm": {
     "name": "#%%\n"
    }
   }
  },
  {
   "cell_type": "code",
   "execution_count": 20,
   "outputs": [],
   "source": [
    "df = pd.DataFrame(relationships, columns=[i for i in range(14)])"
   ],
   "metadata": {
    "collapsed": false,
    "pycharm": {
     "name": "#%%\n"
    }
   }
  },
  {
   "cell_type": "code",
   "execution_count": 21,
   "outputs": [
    {
     "data": {
      "text/plain": "         0         1         2         3         4         5         6   \\\n0  1.269437  1.352097  1.256565  1.230383  0.876151  0.872027  0.806204   \n1  1.466732  1.566658  1.613194  1.529207  0.831951  0.828084  0.585656   \n2  1.687995  1.764611  1.774789  1.845457  0.824108  0.813801  0.413382   \n3  1.738124  1.755173  1.788854  1.843730  0.970837  1.026676  0.306130   \n4  1.555510  1.551161  1.595244  1.668972  1.110655  1.344452  0.375625   \n\n         7         8         9         10        11        12        13  \n0  0.919679  0.833254  0.881611  0.903740  0.909047  0.956842  0.932963  \n1  0.798306  0.643465  0.782928  0.804434  0.824925  0.903356  0.821107  \n2  0.789862  0.472570  0.722708  0.672137  0.729828  0.825713  0.663040  \n3  0.916260  0.396142  0.782076  0.497843  0.753157  0.715007  0.509992  \n4  1.145279  0.450802  0.936551  0.411552  0.786627  0.653710  0.413858  ",
      "text/html": "<div>\n<style scoped>\n    .dataframe tbody tr th:only-of-type {\n        vertical-align: middle;\n    }\n\n    .dataframe tbody tr th {\n        vertical-align: top;\n    }\n\n    .dataframe thead th {\n        text-align: right;\n    }\n</style>\n<table border=\"1\" class=\"dataframe\">\n  <thead>\n    <tr style=\"text-align: right;\">\n      <th></th>\n      <th>0</th>\n      <th>1</th>\n      <th>2</th>\n      <th>3</th>\n      <th>4</th>\n      <th>5</th>\n      <th>6</th>\n      <th>7</th>\n      <th>8</th>\n      <th>9</th>\n      <th>10</th>\n      <th>11</th>\n      <th>12</th>\n      <th>13</th>\n    </tr>\n  </thead>\n  <tbody>\n    <tr>\n      <th>0</th>\n      <td>1.269437</td>\n      <td>1.352097</td>\n      <td>1.256565</td>\n      <td>1.230383</td>\n      <td>0.876151</td>\n      <td>0.872027</td>\n      <td>0.806204</td>\n      <td>0.919679</td>\n      <td>0.833254</td>\n      <td>0.881611</td>\n      <td>0.903740</td>\n      <td>0.909047</td>\n      <td>0.956842</td>\n      <td>0.932963</td>\n    </tr>\n    <tr>\n      <th>1</th>\n      <td>1.466732</td>\n      <td>1.566658</td>\n      <td>1.613194</td>\n      <td>1.529207</td>\n      <td>0.831951</td>\n      <td>0.828084</td>\n      <td>0.585656</td>\n      <td>0.798306</td>\n      <td>0.643465</td>\n      <td>0.782928</td>\n      <td>0.804434</td>\n      <td>0.824925</td>\n      <td>0.903356</td>\n      <td>0.821107</td>\n    </tr>\n    <tr>\n      <th>2</th>\n      <td>1.687995</td>\n      <td>1.764611</td>\n      <td>1.774789</td>\n      <td>1.845457</td>\n      <td>0.824108</td>\n      <td>0.813801</td>\n      <td>0.413382</td>\n      <td>0.789862</td>\n      <td>0.472570</td>\n      <td>0.722708</td>\n      <td>0.672137</td>\n      <td>0.729828</td>\n      <td>0.825713</td>\n      <td>0.663040</td>\n    </tr>\n    <tr>\n      <th>3</th>\n      <td>1.738124</td>\n      <td>1.755173</td>\n      <td>1.788854</td>\n      <td>1.843730</td>\n      <td>0.970837</td>\n      <td>1.026676</td>\n      <td>0.306130</td>\n      <td>0.916260</td>\n      <td>0.396142</td>\n      <td>0.782076</td>\n      <td>0.497843</td>\n      <td>0.753157</td>\n      <td>0.715007</td>\n      <td>0.509992</td>\n    </tr>\n    <tr>\n      <th>4</th>\n      <td>1.555510</td>\n      <td>1.551161</td>\n      <td>1.595244</td>\n      <td>1.668972</td>\n      <td>1.110655</td>\n      <td>1.344452</td>\n      <td>0.375625</td>\n      <td>1.145279</td>\n      <td>0.450802</td>\n      <td>0.936551</td>\n      <td>0.411552</td>\n      <td>0.786627</td>\n      <td>0.653710</td>\n      <td>0.413858</td>\n    </tr>\n  </tbody>\n</table>\n</div>"
     },
     "execution_count": 21,
     "metadata": {},
     "output_type": "execute_result"
    }
   ],
   "source": [
    "df.head()"
   ],
   "metadata": {
    "collapsed": false,
    "pycharm": {
     "name": "#%%\n"
    }
   }
  },
  {
   "cell_type": "code",
   "execution_count": 22,
   "outputs": [],
   "source": [
    "corr = df.corr()"
   ],
   "metadata": {
    "collapsed": false,
    "pycharm": {
     "name": "#%%\n"
    }
   }
  },
  {
   "cell_type": "code",
   "execution_count": 23,
   "outputs": [
    {
     "data": {
      "text/plain": "          0         1         2         3         4         5         6   \\\n0   1.000000  0.988612  0.985239  0.987759 -0.037913 -0.177000 -0.042016   \n1   0.988612  1.000000  0.991859  0.966412 -0.180559 -0.312877 -0.035300   \n2   0.985239  0.991859  1.000000  0.970827 -0.158310 -0.273947 -0.126589   \n3   0.987759  0.966412  0.970827  1.000000  0.030276 -0.100355 -0.080005   \n4  -0.037913 -0.180559 -0.158310  0.030276  1.000000  0.962282  0.157143   \n5  -0.177000 -0.312877 -0.273947 -0.100355  0.962282  1.000000 -0.004223   \n6  -0.042016 -0.035300 -0.126589 -0.080005  0.157143 -0.004223  1.000000   \n7  -0.662495 -0.763535 -0.734262 -0.585670  0.748369  0.833699 -0.008606   \n8  -0.899729 -0.887708 -0.917903 -0.872454  0.082612  0.152948  0.361853   \n9  -0.900379 -0.948783 -0.918996 -0.843539  0.384638  0.521498 -0.126603   \n10 -0.659264 -0.551532 -0.555480 -0.709527 -0.703852 -0.556835 -0.216891   \n11 -0.868984 -0.839428 -0.804840 -0.871892 -0.199725 -0.009036 -0.404364   \n12 -0.694108 -0.604791 -0.593780 -0.733851 -0.617009 -0.471518 -0.320326   \n13 -0.288961 -0.162000 -0.181017 -0.390253 -0.860475 -0.796270 -0.102055   \n\n          7         8         9         10        11        12        13  \n0  -0.662495 -0.899729 -0.900379 -0.659264 -0.868984 -0.694108 -0.288961  \n1  -0.763535 -0.887708 -0.948783 -0.551532 -0.839428 -0.604791 -0.162000  \n2  -0.734262 -0.917903 -0.918996 -0.555480 -0.804840 -0.593780 -0.181017  \n3  -0.585670 -0.872454 -0.843539 -0.709527 -0.871892 -0.733851 -0.390253  \n4   0.748369  0.082612  0.384638 -0.703852 -0.199725 -0.617009 -0.860475  \n5   0.833699  0.152948  0.521498 -0.556835 -0.009036 -0.471518 -0.796270  \n6  -0.008606  0.361853 -0.126603 -0.216891 -0.404364 -0.320326 -0.102055  \n7   1.000000  0.606330  0.895588 -0.080785  0.458129  0.018423 -0.479129  \n8   0.606330  1.000000  0.779819  0.487912  0.607318  0.471591  0.121701  \n9   0.895588  0.779819  1.000000  0.357357  0.783489  0.450838 -0.087644  \n10 -0.080785  0.487912  0.357357  1.000000  0.814156  0.973629  0.860428  \n11  0.458129  0.607318  0.783489  0.814156  1.000000  0.877458  0.490623  \n12  0.018423  0.471591  0.450838  0.973629  0.877458  1.000000  0.816624  \n13 -0.479129  0.121701 -0.087644  0.860428  0.490623  0.816624  1.000000  ",
      "text/html": "<div>\n<style scoped>\n    .dataframe tbody tr th:only-of-type {\n        vertical-align: middle;\n    }\n\n    .dataframe tbody tr th {\n        vertical-align: top;\n    }\n\n    .dataframe thead th {\n        text-align: right;\n    }\n</style>\n<table border=\"1\" class=\"dataframe\">\n  <thead>\n    <tr style=\"text-align: right;\">\n      <th></th>\n      <th>0</th>\n      <th>1</th>\n      <th>2</th>\n      <th>3</th>\n      <th>4</th>\n      <th>5</th>\n      <th>6</th>\n      <th>7</th>\n      <th>8</th>\n      <th>9</th>\n      <th>10</th>\n      <th>11</th>\n      <th>12</th>\n      <th>13</th>\n    </tr>\n  </thead>\n  <tbody>\n    <tr>\n      <th>0</th>\n      <td>1.000000</td>\n      <td>0.988612</td>\n      <td>0.985239</td>\n      <td>0.987759</td>\n      <td>-0.037913</td>\n      <td>-0.177000</td>\n      <td>-0.042016</td>\n      <td>-0.662495</td>\n      <td>-0.899729</td>\n      <td>-0.900379</td>\n      <td>-0.659264</td>\n      <td>-0.868984</td>\n      <td>-0.694108</td>\n      <td>-0.288961</td>\n    </tr>\n    <tr>\n      <th>1</th>\n      <td>0.988612</td>\n      <td>1.000000</td>\n      <td>0.991859</td>\n      <td>0.966412</td>\n      <td>-0.180559</td>\n      <td>-0.312877</td>\n      <td>-0.035300</td>\n      <td>-0.763535</td>\n      <td>-0.887708</td>\n      <td>-0.948783</td>\n      <td>-0.551532</td>\n      <td>-0.839428</td>\n      <td>-0.604791</td>\n      <td>-0.162000</td>\n    </tr>\n    <tr>\n      <th>2</th>\n      <td>0.985239</td>\n      <td>0.991859</td>\n      <td>1.000000</td>\n      <td>0.970827</td>\n      <td>-0.158310</td>\n      <td>-0.273947</td>\n      <td>-0.126589</td>\n      <td>-0.734262</td>\n      <td>-0.917903</td>\n      <td>-0.918996</td>\n      <td>-0.555480</td>\n      <td>-0.804840</td>\n      <td>-0.593780</td>\n      <td>-0.181017</td>\n    </tr>\n    <tr>\n      <th>3</th>\n      <td>0.987759</td>\n      <td>0.966412</td>\n      <td>0.970827</td>\n      <td>1.000000</td>\n      <td>0.030276</td>\n      <td>-0.100355</td>\n      <td>-0.080005</td>\n      <td>-0.585670</td>\n      <td>-0.872454</td>\n      <td>-0.843539</td>\n      <td>-0.709527</td>\n      <td>-0.871892</td>\n      <td>-0.733851</td>\n      <td>-0.390253</td>\n    </tr>\n    <tr>\n      <th>4</th>\n      <td>-0.037913</td>\n      <td>-0.180559</td>\n      <td>-0.158310</td>\n      <td>0.030276</td>\n      <td>1.000000</td>\n      <td>0.962282</td>\n      <td>0.157143</td>\n      <td>0.748369</td>\n      <td>0.082612</td>\n      <td>0.384638</td>\n      <td>-0.703852</td>\n      <td>-0.199725</td>\n      <td>-0.617009</td>\n      <td>-0.860475</td>\n    </tr>\n    <tr>\n      <th>5</th>\n      <td>-0.177000</td>\n      <td>-0.312877</td>\n      <td>-0.273947</td>\n      <td>-0.100355</td>\n      <td>0.962282</td>\n      <td>1.000000</td>\n      <td>-0.004223</td>\n      <td>0.833699</td>\n      <td>0.152948</td>\n      <td>0.521498</td>\n      <td>-0.556835</td>\n      <td>-0.009036</td>\n      <td>-0.471518</td>\n      <td>-0.796270</td>\n    </tr>\n    <tr>\n      <th>6</th>\n      <td>-0.042016</td>\n      <td>-0.035300</td>\n      <td>-0.126589</td>\n      <td>-0.080005</td>\n      <td>0.157143</td>\n      <td>-0.004223</td>\n      <td>1.000000</td>\n      <td>-0.008606</td>\n      <td>0.361853</td>\n      <td>-0.126603</td>\n      <td>-0.216891</td>\n      <td>-0.404364</td>\n      <td>-0.320326</td>\n      <td>-0.102055</td>\n    </tr>\n    <tr>\n      <th>7</th>\n      <td>-0.662495</td>\n      <td>-0.763535</td>\n      <td>-0.734262</td>\n      <td>-0.585670</td>\n      <td>0.748369</td>\n      <td>0.833699</td>\n      <td>-0.008606</td>\n      <td>1.000000</td>\n      <td>0.606330</td>\n      <td>0.895588</td>\n      <td>-0.080785</td>\n      <td>0.458129</td>\n      <td>0.018423</td>\n      <td>-0.479129</td>\n    </tr>\n    <tr>\n      <th>8</th>\n      <td>-0.899729</td>\n      <td>-0.887708</td>\n      <td>-0.917903</td>\n      <td>-0.872454</td>\n      <td>0.082612</td>\n      <td>0.152948</td>\n      <td>0.361853</td>\n      <td>0.606330</td>\n      <td>1.000000</td>\n      <td>0.779819</td>\n      <td>0.487912</td>\n      <td>0.607318</td>\n      <td>0.471591</td>\n      <td>0.121701</td>\n    </tr>\n    <tr>\n      <th>9</th>\n      <td>-0.900379</td>\n      <td>-0.948783</td>\n      <td>-0.918996</td>\n      <td>-0.843539</td>\n      <td>0.384638</td>\n      <td>0.521498</td>\n      <td>-0.126603</td>\n      <td>0.895588</td>\n      <td>0.779819</td>\n      <td>1.000000</td>\n      <td>0.357357</td>\n      <td>0.783489</td>\n      <td>0.450838</td>\n      <td>-0.087644</td>\n    </tr>\n    <tr>\n      <th>10</th>\n      <td>-0.659264</td>\n      <td>-0.551532</td>\n      <td>-0.555480</td>\n      <td>-0.709527</td>\n      <td>-0.703852</td>\n      <td>-0.556835</td>\n      <td>-0.216891</td>\n      <td>-0.080785</td>\n      <td>0.487912</td>\n      <td>0.357357</td>\n      <td>1.000000</td>\n      <td>0.814156</td>\n      <td>0.973629</td>\n      <td>0.860428</td>\n    </tr>\n    <tr>\n      <th>11</th>\n      <td>-0.868984</td>\n      <td>-0.839428</td>\n      <td>-0.804840</td>\n      <td>-0.871892</td>\n      <td>-0.199725</td>\n      <td>-0.009036</td>\n      <td>-0.404364</td>\n      <td>0.458129</td>\n      <td>0.607318</td>\n      <td>0.783489</td>\n      <td>0.814156</td>\n      <td>1.000000</td>\n      <td>0.877458</td>\n      <td>0.490623</td>\n    </tr>\n    <tr>\n      <th>12</th>\n      <td>-0.694108</td>\n      <td>-0.604791</td>\n      <td>-0.593780</td>\n      <td>-0.733851</td>\n      <td>-0.617009</td>\n      <td>-0.471518</td>\n      <td>-0.320326</td>\n      <td>0.018423</td>\n      <td>0.471591</td>\n      <td>0.450838</td>\n      <td>0.973629</td>\n      <td>0.877458</td>\n      <td>1.000000</td>\n      <td>0.816624</td>\n    </tr>\n    <tr>\n      <th>13</th>\n      <td>-0.288961</td>\n      <td>-0.162000</td>\n      <td>-0.181017</td>\n      <td>-0.390253</td>\n      <td>-0.860475</td>\n      <td>-0.796270</td>\n      <td>-0.102055</td>\n      <td>-0.479129</td>\n      <td>0.121701</td>\n      <td>-0.087644</td>\n      <td>0.860428</td>\n      <td>0.490623</td>\n      <td>0.816624</td>\n      <td>1.000000</td>\n    </tr>\n  </tbody>\n</table>\n</div>"
     },
     "execution_count": 23,
     "metadata": {},
     "output_type": "execute_result"
    }
   ],
   "source": [
    "corr"
   ],
   "metadata": {
    "collapsed": false,
    "pycharm": {
     "name": "#%%\n"
    }
   }
  },
  {
   "cell_type": "code",
   "execution_count": 24,
   "outputs": [],
   "source": [
    "links = corr.stack().reset_index()\n",
    "links.columns = ['var1', 'var2','value']"
   ],
   "metadata": {
    "collapsed": false,
    "pycharm": {
     "name": "#%%\n"
    }
   }
  },
  {
   "cell_type": "code",
   "execution_count": 28,
   "outputs": [],
   "source": [
    "links_filtered=links.loc[ (links['value'] > 0.1) & (links['var1'] != links['var2']) ]\n",
    "links_filtered=links_filtered[links_filtered.var1.isnull() == False]\n",
    "links_filtered=links_filtered[links_filtered.var2.isnull() == False]\n",
    "\n",
    "links_filtered = links_filtered.sort_values(by=['value'],ascending=False)\n",
    "links_filtered = links_filtered.groupby('var1').head(3)"
   ],
   "metadata": {
    "collapsed": false,
    "pycharm": {
     "name": "#%%\n"
    }
   }
  },
  {
   "cell_type": "code",
   "execution_count": 33,
   "outputs": [
    {
     "data": {
      "text/plain": "<Figure size 432x288 with 1 Axes>",
      "image/png": "[encoded data removed]"
     },
     "metadata": {},
     "output_type": "display_data"
    }
   ],
   "source": [
    "import networkx as nx\n",
    "\n",
    "# Build your graph\n",
    "G=nx.from_pandas_edgelist(links_filtered, 'var1', 'var2')\n",
    "# Plot the network:\n",
    "nx.draw(G, with_labels=True, node_color='orange', node_size=60, edge_color='black', linewidths=5, font_size=10,pos=nx.spring_layout(G))"
   ],
   "metadata": {
    "collapsed": false,
    "pycharm": {
     "name": "#%%\n"
    }
   }
  },
  {
   "cell_type": "code",
   "execution_count": 32,
   "outputs": [
    {
     "data": {
      "text/plain": "matrix([[0, 1, 1, 1, 0, 0, 0, 0, 0, 0, 0, 0, 0, 0]])"
     },
     "execution_count": 32,
     "metadata": {},
     "output_type": "execute_result"
    }
   ],
   "source": [
    "A = nx.adjacency_matrix(G)\n",
    "A.todense()[0]"
   ],
   "metadata": {
    "collapsed": false,
    "pycharm": {
     "name": "#%%\n"
    }
   }
  },
  {
   "cell_type": "code",
   "execution_count": null,
   "outputs": [],
   "source": [],
   "metadata": {
    "collapsed": false,
    "pycharm": {
     "name": "#%%\n"
    }
   }
  }
 ],
 "metadata": {
  "kernelspec": {
   "display_name": "Python 3",
   "language": "python",
   "name": "python3"
  },
  "language_info": {
   "codemirror_mode": {
    "name": "ipython",
    "version": 2
   },
   "file_extension": ".py",
   "mimetype": "text/x-python",
   "name": "python",
   "nbconvert_exporter": "python",
   "pygments_lexer": "ipython2",
   "version": "2.7.6"
  }
 },
 "nbformat": 4,
 "nbformat_minor": 0
}